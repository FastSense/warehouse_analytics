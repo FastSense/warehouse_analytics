{
 "cells": [
  {
   "cell_type": "raw",
   "metadata": {},
   "source": []
  },
  {
   "cell_type": "code",
   "execution_count": 1,
   "metadata": {},
   "outputs": [],
   "source": [
    "import matplotlib.pyplot as plt\n",
    "import pandas as pd\n",
    "import pprint\n",
    "import numpy as np\n",
    "import os\n",
    "import collections\n",
    "from json import loads\n",
    "from six import iteritems"
   ]
  },
  {
   "cell_type": "code",
   "execution_count": 2,
   "metadata": {},
   "outputs": [],
   "source": [
    "def deep_update(cfg, cfg_path):\n",
    "    for k, v in iteritems(cfg_path):\n",
    "        cfg[k] = (\n",
    "                deep_update(cfg.get(k, {}), v)\n",
    "                if isinstance(v, collections.Mapping) else\n",
    "                v\n",
    "            )\n",
    "    return cfg\n"
   ]
  },
  {
   "cell_type": "code",
   "execution_count": 3,
   "metadata": {},
   "outputs": [],
   "source": [
    "def GetSegments(cfg):\n",
    "    Segments = []\n",
    "    seg = []\n",
    "    for key in cfg['racks'].keys():\n",
    "        if(len(seg)==0):\n",
    "            seg.append(1)\n",
    "            seg.append(list(cfg['racks'][key].values())[1])\n",
    "            seg.append(list(cfg['racks'][key].values())[0])\n",
    "        elif(seg[-1]==list(cfg['racks'][key].values())[0] and seg[-2]==list(cfg['racks'][key].values())[1]):\n",
    "            seg[0]+=1\n",
    "        elif(seg[-1]!=list(cfg['racks'][key].values())[0] or seg[-2]!=list(cfg['racks'][key].values())[1]):\n",
    "            Segments.append(seg.copy())\n",
    "            seg[0]=1\n",
    "            seg[1]=list(cfg['racks'][key].values())[1]\n",
    "            seg[2]=list(cfg['racks'][key].values())[0]\n",
    "\n",
    "        #print(seg)\n",
    "    Segments.append(seg.copy())        \n",
    "    print(Segments)\n",
    "    return Segments\n",
    "\n",
    "        "
   ]
  },
  {
   "cell_type": "markdown",
   "metadata": {},
   "source": [
    "### Задать параметры"
   ]
  },
  {
   "cell_type": "code",
   "execution_count": 4,
   "metadata": {},
   "outputs": [
    {
     "name": "stdout",
     "output_type": "stream",
     "text": [
      "[[12, 3, [2, 4, 6, 8, 10, 11.5]], [1, 4, [4, 8, 10, 11.5]], [12, 3, [2, 4, 6, 8, 10, 11.5]]]\n"
     ]
    }
   ],
   "source": [
    "# hardcoded\n",
    "#/home/vytautas/work/px4/catkin_ws/src/fs/cell_state_reader/config/warehouse_config.json\n",
    "                                             #CHANGE ME !!\n",
    "list_of_barcodes = []\n",
    "list_of_coords = []\n",
    "list_of_pairs = []\n",
    "\n",
    "bar_files_list = sorted(os.listdir(\"../data/barcodes/tests/\"))\n",
    "coord_files_list = sorted(os.listdir(\"../data/coords/tests/\"))\n",
    "cfg = {}\n",
    "deep_update(cfg, loads(open(\"../config/warehouse_config.json\").read()))\n",
    "#print(cfg)\n",
    "Segments = GetSegments(cfg)\n",
    "\n",
    "                    ###WAREHOUSE PARAMETERS\n",
    "#Segments = [[12,3,[0,1,4,6,8,10,12.5]],[1,4,[0,4.5,8,10,12.5]],[12,3,[0,1,4,6,8,10,12.5]]]\n",
    "#Segments = [[1,3,[0,1,4,6,8,10,12.5]],[1,1,[0,4.5,8,10,12.5]],[1,1,[0,1,4,6,8,10,12.5]]] #For local tests\n",
    "segments_borders_list = [x[0]*x[1] for x in Segments]  #list of borders between segments\n",
    "#print(segments_borders_list)"
   ]
  },
  {
   "cell_type": "markdown",
   "metadata": {},
   "source": [
    "### Функция для парсинга файла с баркодами"
   ]
  },
  {
   "cell_type": "code",
   "execution_count": 5,
   "metadata": {},
   "outputs": [],
   "source": [
    "def parse_barcodes(barcodes_file):\n",
    "    barcodes_list = []   \n",
    "    for line in barcodes_file:\n",
    "        line= [element.rstrip() for element in line.split(' ') if element!=\"\\n\"]\n",
    "        #line.remove(\"-\") \n",
    "        barcodes_list.append(line)\n",
    "    #print(\"       barcodes\")\n",
    "    #print(\" start  end   barcode\")\n",
    "    #pprint.pprint(barcodes_list)\n",
    "    barcodes_file.close()\n",
    "    return barcodes_list\n"
   ]
  },
  {
   "cell_type": "markdown",
   "metadata": {},
   "source": [
    "### Функция для парсинга файла с координатами клеток "
   ]
  },
  {
   "cell_type": "code",
   "execution_count": 6,
   "metadata": {
    "scrolled": true
   },
   "outputs": [],
   "source": [
    "def parse_coords(coordinate_file):\n",
    "    coords_list = []  \n",
    "    for line in coordinate_file:\n",
    "        coord_line = []\n",
    "        line= [element.rstrip() for element in line.split(' ') if element!=\"\\n\"] # removing \\n\n",
    "        for element in line:\n",
    "            element = element.replace(',','').split(' ') # removing ','\n",
    "            coord_line.append(element[0])\n",
    "        coords_list.append(coord_line)\n",
    "\n",
    "    #print(\"         coords\")\n",
    "    #print(\"start end rack column level\")\n",
    "    #pprint.pprint(coords_list)\n",
    "    coordinate_file.close()\n",
    "    return coords_list"
   ]
  },
  {
   "cell_type": "markdown",
   "metadata": {},
   "source": [
    "### Функция для получения координат паллеты по таймкоду"
   ]
  },
  {
   "cell_type": "code",
   "execution_count": 7,
   "metadata": {},
   "outputs": [],
   "source": [
    "#A function that returns the coordinates of the cell depending on the time\n",
    "def GetCoordFromTime(first_time, second_time, coords_list):\n",
    "    #print(\"GET COORDS_LIST!!!\")\n",
    "    #print(coords_list)\n",
    "    mean_time = (float(first_time)+float(second_time))/2          #This method is too simplistic.\n",
    "    for cell in coords_list:\n",
    "        if ((float(cell[0]) < mean_time) and (mean_time < float(cell[1]))):\n",
    "            #print(\"cell 0 mean cell 1\")\n",
    "            #print(cell[0],  mean_time, cell[1])\n",
    "            #print(\"cell2:\")\n",
    "            #print(cell[2::])\n",
    "            return cell[2::]           \n",
    "#I should change this func"
   ]
  },
  {
   "cell_type": "markdown",
   "metadata": {},
   "source": [
    "### Функция для сопостовления времени когда были задетектированы баркоды с временем пролета рядом с ячейкой"
   ]
  },
  {
   "cell_type": "code",
   "execution_count": 8,
   "metadata": {},
   "outputs": [],
   "source": [
    "def find_pair(barcodes_list, coords_list):\n",
    "    coords_and_barcodes = []\n",
    "    for line in barcodes_list:\n",
    "        cell = GetCoordFromTime(line[0],line[1],coords_list) #GetCoordFromTime - return pallete coordinates depending on time\n",
    "        #print(\"cell:\")\n",
    "        #print(cell)\n",
    "        if(cell is not None):\n",
    "            cell.append(line[-1])\n",
    "            coords_and_barcodes.append(cell)\n",
    "    return coords_and_barcodes"
   ]
  },
  {
   "cell_type": "markdown",
   "metadata": {},
   "source": [
    "### Функция для получения номеров секций"
   ]
  },
  {
   "cell_type": "code",
   "execution_count": 9,
   "metadata": {},
   "outputs": [],
   "source": [
    "def find_column_nums(coords_list):\n",
    "    column_list = set()\n",
    "    for line in coords_list:\n",
    "        column_list.add(line[2])\n",
    "    #print(columns_list)\n",
    "    return column_list"
   ]
  },
  {
   "cell_type": "markdown",
   "metadata": {},
   "source": [
    "### Функция для сегментирования"
   ]
  },
  {
   "cell_type": "code",
   "execution_count": 10,
   "metadata": {},
   "outputs": [],
   "source": [
    "def find_segments_params(list_of_pairs):\n",
    "    current_segment = 0\n",
    "    border = segments_borders_list[current_segment]\n",
    "    barcodes_in_segment = [[] for x in range(len(Segments))]\n",
    "    for pairs in list_of_pairs:\n",
    "        for element in pairs:\n",
    "            #print(\"ELEMENT AND BORDER!!!\")\n",
    "            #print(float(element[1]),border)\n",
    "            if (float(element[1])<border):\n",
    "                barcodes_in_segment[current_segment].append(element)\n",
    "            else:\n",
    "                #print(\"OLD border\")\n",
    "                #print(border)\n",
    "                current_segment +=1\n",
    "                #print(\"current sgement\")\n",
    "                #print(current_segment)\n",
    "                border = (border + segments_borders_list[current_segment])# if current_segment<len(segments_borders_list) else (border+1)\n",
    "                #print(\"NEW border\")\n",
    "                #print(border)\n",
    "                barcodes_in_segment[current_segment].append(element)\n",
    "    #print(\"barcodes_in_segment\")\n",
    "    #print(barcodes_in_segment)\n",
    "    return barcodes_in_segment\n",
    "        \n",
    "    "
   ]
  },
  {
   "cell_type": "markdown",
   "metadata": {},
   "source": [
    "### Функция для составления таблицы заполненности ячеек"
   ]
  },
  {
   "cell_type": "code",
   "execution_count": 11,
   "metadata": {},
   "outputs": [],
   "source": [
    "def cell_occupancy(segment,current_segment):\n",
    "    curr_segment_levels = Segments[current_segment][2]\n",
    "    curr_segment_border = segments_borders_list[current_segment] #!!!!!\n",
    "    result = np.zeros((len(curr_segment_levels)-1,curr_segment_border), int)\n",
    "    #result = np.zeros((len(curr_segment_levels),curr_segment_border), int)\n",
    "    #print(result)\n",
    "    start_num_index = int(segment[0][2])\n",
    "    start_num_column = int(segment[0][1])\n",
    "    #print(start_num_index)\n",
    "    for line in segment:\n",
    "        #print((int(line[2]),int(line[1])))\n",
    "        result[(int(line[2]) - start_num_index,int(line[1])-start_num_column)] =line[3]\n",
    "    result = np.flip(result,0)\n",
    "    #print(result)\n",
    "\n",
    "    index_ =  [\"   \"+(str(x)) for x in range(len(curr_segment_levels)-1)]\n",
    "    columns_ =[\"   \"+(str(x)) for x in range(curr_segment_border)]\n",
    "    index_.reverse()\n",
    "    DF = pd.DataFrame(result,index = index_,columns=columns_)\n",
    "    DF.index.names = ['levels']\n",
    "    DF.columns.names = ['sections']\n",
    "    pd.set_option('display.max_rows', 10)\n",
    "    pd.set_option('display.max_columns', 15)\n",
    "    pd.set_option('display.width', 5000)\n",
    "    pprint.pprint(DF)\n",
    "    visualize_cells(DF,index_,columns_)"
   ]
  },
  {
   "cell_type": "markdown",
   "metadata": {},
   "source": [
    "### Функция для визуализации таблицы"
   ]
  },
  {
   "cell_type": "code",
   "execution_count": 12,
   "metadata": {},
   "outputs": [],
   "source": [
    "def visualize_cells(DF,index_,columns_):\n",
    "    # (c) https://stackoverflow.com/questions/3529666/matplotlib-matshow-labels\n",
    "    # kwargs for matshow and imshow func - https://matplotlib.org/2.1.0/api/_as_gen/matplotlib.pyplot.imshow.html\n",
    "    from matplotlib.colors import ListedColormap\n",
    "\n",
    "    fig = plt.figure() #figsize=(6, 12)\n",
    "    ax = fig.add_subplot(111)\n",
    "    cmap = ListedColormap(['r', 'g', 'g'])\n",
    "\n",
    "    cax = ax.matshow(DF, cmap=cmap, vmin = -8)\n",
    "    #fig.colorbar(cax)\n",
    "    ax.set_xticklabels(['']+columns_)\n",
    "    ax.set_yticklabels(['']+index_)\n",
    "    plt.show()\n",
    "    #Надо обязательно решить вопрос как визуализировать все ячейки, \n",
    "    #как я понял функция matshow показывает только самые больше значения\n",
    "    #чтобы понять можно поиграть с параметтром vmin"
   ]
  },
  {
   "cell_type": "code",
   "execution_count": null,
   "metadata": {},
   "outputs": [],
   "source": []
  },
  {
   "cell_type": "markdown",
   "metadata": {},
   "source": [
    "# Основная часть !"
   ]
  },
  {
   "cell_type": "code",
   "execution_count": 13,
   "metadata": {},
   "outputs": [
    {
     "name": "stdout",
     "output_type": "stream",
     "text": [
      "SEGMENT № 0\n",
      "sections     0     1     2     3     4     5     6  ...     29     30     31     32     33     34     35\n",
      "levels                                              ...                                                 \n",
      "   4         6     7    18     0     0     0     0  ...      0      0      0      0      0      0      0\n",
      "   3         5     8     0     0    28     0     0  ...      0      0      0      0      0      0      0\n",
      "   2         4     9     0    19    26     0     0  ...      0      0      0      0      0      0      0\n",
      "   1         3    10    15    20    25     0     0  ...      0      0      0      0      0      0      0\n",
      "   0         2    11    14    21    24     0     0  ...      0      0      0      0      0      0      0\n",
      "\n",
      "[5 rows x 36 columns]\n"
     ]
    },
    {
     "data": {
      "image/png": "[encoded data removed]",
      "text/plain": [
       "<Figure size 432x288 with 1 Axes>"
      ]
     },
     "metadata": {},
     "output_type": "display_data"
    }
   ],
   "source": [
    "for file in bar_files_list: #Парсим все файлы в папке с баркодами\n",
    "    list_of_barcodes.append(parse_barcodes(open(\"../data/barcodes/tests/\"+str(file))))\n",
    "    \n",
    "    \n",
    "for file in coord_files_list: #Парсим все файлы в папке с координатами паллет\n",
    "    list_of_coords.append(parse_coords(open(\"../data/coords/tests/\"+str(file))))\n",
    "\n",
    "    \n",
    "for bar,coord in zip(list_of_barcodes,list_of_coords):   #Находим пары координаты места - баркод\n",
    "    list_of_pairs.append(find_pair(bar,coord))\n",
    "#print(list_of_pairs)\n",
    "    \n",
    "# разделяем все пары координаты + баркод на сегменты\n",
    "barcodes_in_segment = find_segments_params(list_of_pairs)\n",
    "i = 0\n",
    "for segment in barcodes_in_segment:\n",
    "    if(len(segment)>0):\n",
    "        print(\"SEGMENT № {}\".format(i))\n",
    "        #print(segment)\n",
    "        cell_occupancy(segment,i)\n",
    "    i+=1"
   ]
  },
  {
   "cell_type": "code",
   "execution_count": null,
   "metadata": {},
   "outputs": [],
   "source": []
  },
  {
   "cell_type": "code",
   "execution_count": 45,
   "metadata": {},
   "outputs": [
    {
     "data": {
      "text/plain": [
       "' result = np.zeros((warehouse_max_level_num, warehouse_max_column_num), list)\\n#for line in coords_and_barcodes:\\n    if len(line)>0:\\n        url = \\'photos/fast-sense-x.JPG\\' # Изменить адресс для каждого баркода\\n        name = line[3]\\n        result[(int(line[2]),int(line[1]))] = \\'<a href=\"{}\">{}</a>\\'.format(url,name)\\n\\n# Создаем гиперссылку для ячейки в которой не был задетектирован баркод\\nurl = \\'photos/fast-sense-x.JPG\\'\\nname = \"NO!\"\\nfor x in result:        \\n    zero_indexs = np.nonzero(x==0)[0]\\n    for index in zero_indexs:\\n        x[index] = \\'<a href=\"{}\">{}</a>\\'.format(url,name)\\n\\nindex_ =  [\"   \"+(str(x)) for x in range(warehouse_max_level_num+1)][1:]\\ncolumns_ =[\"   \"+(str(x)) for x in range(warehouse_max_column_num+1)][1:]\\nDF = pd.DataFrame(result,index = index_,columns=columns_)\\nDF.index.names = [\\'levels\\']\\nDF.columns.names = [\\'columns\\']\\n\\n# Оторажаем\\nDF.style \\n'"
      ]
     },
     "execution_count": 45,
     "metadata": {},
     "output_type": "execute_result"
    }
   ],
   "source": [
    "# Создаем гиперссылку на баркод который был замечен (для него нашлась пара)\n",
    "\"\"\" result = np.zeros((warehouse_max_level_num, warehouse_max_column_num), list)\n",
    "#for line in coords_and_barcodes:\n",
    "    if len(line)>0:\n",
    "        url = 'photos/fast-sense-x.JPG' # Изменить адресс для каждого баркода\n",
    "        name = line[3]\n",
    "        result[(int(line[2]),int(line[1]))] = '<a href=\"{}\">{}</a>'.format(url,name)\n",
    "\n",
    "# Создаем гиперссылку для ячейки в которой не был задетектирован баркод\n",
    "url = 'photos/fast-sense-x.JPG'\n",
    "name = \"NO!\"\n",
    "for x in result:        \n",
    "    zero_indexs = np.nonzero(x==0)[0]\n",
    "    for index in zero_indexs:\n",
    "        x[index] = '<a href=\"{}\">{}</a>'.format(url,name)\n",
    "\n",
    "index_ =  [\"   \"+(str(x)) for x in range(warehouse_max_level_num+1)][1:]\n",
    "columns_ =[\"   \"+(str(x)) for x in range(warehouse_max_column_num+1)][1:]\n",
    "DF = pd.DataFrame(result,index = index_,columns=columns_)\n",
    "DF.index.names = ['levels']\n",
    "DF.columns.names = ['columns']\n",
    "\n",
    "# Оторажаем\n",
    "DF.style \n",
    "\"\"\""
   ]
  },
  {
   "cell_type": "code",
   "execution_count": null,
   "metadata": {},
   "outputs": [],
   "source": []
  },
  {
   "cell_type": "code",
   "execution_count": null,
   "metadata": {},
   "outputs": [],
   "source": []
  },
  {
   "cell_type": "code",
   "execution_count": null,
   "metadata": {},
   "outputs": [],
   "source": []
  },
  {
   "cell_type": "code",
   "execution_count": null,
   "metadata": {},
   "outputs": [],
   "source": []
  },
  {
   "cell_type": "code",
   "execution_count": null,
   "metadata": {},
   "outputs": [],
   "source": []
  },
  {
   "cell_type": "code",
   "execution_count": null,
   "metadata": {},
   "outputs": [],
   "source": []
  },
  {
   "cell_type": "code",
   "execution_count": null,
   "metadata": {},
   "outputs": [],
   "source": []
  }
 ],
 "metadata": {
  "kernelspec": {
   "display_name": "Python 3",
   "language": "python",
   "name": "python3"
  },
  "language_info": {
   "codemirror_mode": {
    "name": "ipython",
    "version": 3
   },
   "file_extension": ".py",
   "mimetype": "text/x-python",
   "name": "python",
   "nbconvert_exporter": "python",
   "pygments_lexer": "ipython3",
   "version": "3.6.9"
  }
 },
 "nbformat": 4,
 "nbformat_minor": 2
}
